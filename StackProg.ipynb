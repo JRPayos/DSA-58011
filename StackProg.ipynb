{
  "nbformat": 4,
  "nbformat_minor": 0,
  "metadata": {
    "colab": {
      "provenance": [],
      "authorship_tag": "ABX9TyMexwmfqXwkt/gHOE9LddlT",
      "include_colab_link": true
    },
    "kernelspec": {
      "name": "python3",
      "display_name": "Python 3"
    },
    "language_info": {
      "name": "python"
    }
  },
  "cells": [
    {
      "cell_type": "markdown",
      "metadata": {
        "id": "view-in-github",
        "colab_type": "text"
      },
      "source": [
        "<a href=\"https://colab.research.google.com/github/JRPayos/DSA-58011/blob/main/StackProg.ipynb\" target=\"_parent\"><img src=\"https://colab.research.google.com/assets/colab-badge.svg\" alt=\"Open In Colab\"/></a>"
      ]
    },
    {
      "cell_type": "markdown",
      "source": [
        "Stack Linked-list with push user input"
      ],
      "metadata": {
        "id": "MLlBi5Mt8TAE"
      }
    },
    {
      "cell_type": "code",
      "source": [
        "#Stack Linked-list with input user\n",
        "class Node:\n",
        "  def __init__(self,data):\n",
        "    self.data = data\n",
        "    self.next = None\n",
        "\n",
        "\n",
        "class LinkedList:\n",
        "  def __init__(self):\n",
        "    self.head = None\n",
        "    self.last =None\n",
        "\n",
        "  #push method to add/stack element\n",
        "  def push(self, data):\n",
        "    if self.last is None:\n",
        "        self.head = Node(data)\n",
        "        self.last = self.head\n",
        "    else:\n",
        "        self.last.next = Node(data)\n",
        "        self.last = self.last.next\n",
        "\n",
        "  def printList(self):\n",
        "    print(\"\\nStack =\", end = \" \")\n",
        "    temp = self.head\n",
        "    while(temp):\n",
        "      print(temp.data, end = \" \")\n",
        "      temp = temp.next\n",
        "  \n",
        "  def isempty(self):\n",
        "    if self.printList == None:\n",
        "      return True\n",
        "    else:\n",
        "      return False\n",
        "\n",
        "  def pop(self):\n",
        "    if self.isempty():\n",
        "      print(\"The stack is empty\")\n",
        "    else:\n",
        "      popped_node = Node(data)\n",
        "      return popped_node.data\n",
        "\n",
        "  \n",
        "\n",
        "llist = LinkedList()\n",
        "\n",
        "#user input to push node data\n",
        "n = int(input('How many elements would you like to stack?: '))\n",
        "for i in range(n):\n",
        "  data= input(\"push number: \")\n",
        "  llist.push(data)\n",
        "\n",
        "#prints the stack and the last element\n",
        "llist.printList()\n",
        "print(\"\\nThe last element in the stack is\", llist.pop())\n",
        "\n"
      ],
      "metadata": {
        "colab": {
          "base_uri": "https://localhost:8080/"
        },
        "outputId": "7b963a80-9702-42e5-c653-d7f28fbbb24d",
        "id": "PQVMlcfPekLK"
      },
      "execution_count": 54,
      "outputs": [
        {
          "output_type": "stream",
          "name": "stdout",
          "text": [
            "How many elements would you like to stack?: 6\n",
            "push number: 1\n",
            "push number: 2\n",
            "push number: 3\n",
            "push number: 4\n",
            "push number: 5\n",
            "push number: 6\n",
            "\n",
            "Stack = 1 2 3 4 5 6 \n",
            "The last element in the stack is 6\n"
          ]
        }
      ]
    }
  ]
}