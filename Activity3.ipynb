{
  "nbformat": 4,
  "nbformat_minor": 0,
  "metadata": {
    "colab": {
      "provenance": [],
      "authorship_tag": "ABX9TyMC508PlPjgsPg2cxEDet7S",
      "include_colab_link": true
    },
    "kernelspec": {
      "name": "python3",
      "display_name": "Python 3"
    },
    "language_info": {
      "name": "python"
    }
  },
  "cells": [
    {
      "cell_type": "markdown",
      "metadata": {
        "id": "view-in-github",
        "colab_type": "text"
      },
      "source": [
        "<a href=\"https://colab.research.google.com/github/JRPayos/DSA-58011/blob/main/Activity3.ipynb\" target=\"_parent\"><img src=\"https://colab.research.google.com/assets/colab-badge.svg\" alt=\"Open In Colab\"/></a>"
      ]
    },
    {
      "cell_type": "markdown",
      "source": [
        "#Original program code"
      ],
      "metadata": {
        "id": "SPiCB8O5qbyV"
      }
    },
    {
      "cell_type": "code",
      "execution_count": 1,
      "metadata": {
        "colab": {
          "base_uri": "https://localhost:8080/"
        },
        "id": "KsdVcEUanpkJ",
        "outputId": "3a1fec84-052d-44ff-e8f4-37559efb7c70"
      },
      "outputs": [
        {
          "output_type": "stream",
          "name": "stdout",
          "text": [
            "Pushed Element: 1\n",
            "Pushed Element: 2\n",
            "Pushed Element: 3\n",
            "Pushed Element: 4\n",
            "Pushed Element: 5\n",
            "The elements in the stack are:['1', '2', '3', '4', '5']\n"
          ]
        }
      ],
      "source": [
        "# Stack implementation in python\n",
        "\n",
        "\n",
        "\n",
        "\n",
        "\n",
        "# Creating a stack\n",
        "\n",
        "def create_stack():\n",
        "\n",
        "    stack = []\n",
        "\n",
        "    return stack\n",
        "\n",
        "\n",
        "\n",
        "\n",
        "\n",
        "# Creating an empty stack\n",
        "\n",
        "def is_empty(stack):\n",
        "\n",
        "    return len(stack) == 0\n",
        "\n",
        "\n",
        "\n",
        "\n",
        "\n",
        "# Adding items into the stack\n",
        "\n",
        "def push(stack, item):\n",
        "\n",
        "    stack.append(item)\n",
        "\n",
        "    print(\"Pushed Element: \" + item)\n",
        "\n",
        "\n",
        "\n",
        "\n",
        "\n",
        "# Removing an element from the stack\n",
        "\n",
        "def pop(stack):\n",
        "\n",
        "    if (is_empty(stack)):\n",
        "\n",
        "        return \"The stack is empty\"\n",
        "\n",
        "    return stack.pop()\n",
        "\n",
        "\n",
        "\n",
        "\n",
        "stack = create_stack()\n",
        "\n",
        "push(stack, str(1))\n",
        "\n",
        "push(stack, str(2))\n",
        "\n",
        "push(stack, str(3))\n",
        "\n",
        "push(stack, str(4))\n",
        "\n",
        "push(stack, str(5))\n",
        "\n",
        "\n",
        "\n",
        "print(\"The elements in the stack are:\"+ str(stack))"
      ]
    },
    {
      "cell_type": "markdown",
      "source": [
        "#3. Revised program code: Popping the top three elements in the Stack\n",
        "\n",
        "included the original stack to compare to the final popped stack."
      ],
      "metadata": {
        "id": "HCzXPyBmqjGk"
      }
    },
    {
      "cell_type": "code",
      "source": [
        "# Stack implementation in python\n",
        "\n",
        "\n",
        "\n",
        "\n",
        "\n",
        "# Creating a stack\n",
        "\n",
        "def create_stack():\n",
        "\n",
        "    stack = []\n",
        "\n",
        "    return stack\n",
        "\n",
        "\n",
        "\n",
        "\n",
        "\n",
        "# Creating an empty stack\n",
        "\n",
        "def is_empty(stack):\n",
        "\n",
        "    return len(stack) == 0\n",
        "\n",
        "\n",
        "\n",
        "\n",
        "\n",
        "# Adding items into the stack\n",
        "\n",
        "def push(stack, item):\n",
        "\n",
        "    stack.append(item)\n",
        "\n",
        "    print(\"Pushed Element: \" + item)\n",
        "\n",
        "\n",
        "\n",
        "\n",
        "\n",
        "# Removing an element from the stack\n",
        "\n",
        "def pop(stack):\n",
        "\n",
        "    if (is_empty(stack)):\n",
        "\n",
        "        return \"The stack is empty\"\n",
        "    \n",
        "    return stack.pop()\n",
        "    \n",
        "    \n",
        "\n",
        "\n",
        "\n",
        "\n",
        "stack = create_stack()\n",
        "\n",
        "push(stack, str(1))\n",
        "\n",
        "push(stack, str(2))\n",
        "\n",
        "push(stack, str(3))\n",
        "\n",
        "push(stack, str(4))\n",
        "\n",
        "push(stack, str(5))\n",
        "\n",
        "\n",
        "#The initial elments of the stack\n",
        "print(\"\\nThe intial elements in the stack were:\"+ str(stack))\n",
        "\n",
        "\n",
        "#usinf for loop to pop the top three elements, popping the top three times\n",
        "for i in range(3):\n",
        "  pop(stack)\n",
        "\n",
        "#the left elements of the stack after popping the three top elements\n",
        "print(\"\\nThe final elements after popping the stack are:\"+ str(stack))"
      ],
      "metadata": {
        "colab": {
          "base_uri": "https://localhost:8080/"
        },
        "id": "gpBykxhhoCwP",
        "outputId": "46193952-0497-443a-aad4-12a29f754274"
      },
      "execution_count": 15,
      "outputs": [
        {
          "output_type": "stream",
          "name": "stdout",
          "text": [
            "Pushed Element: 1\n",
            "Pushed Element: 2\n",
            "Pushed Element: 3\n",
            "Pushed Element: 4\n",
            "Pushed Element: 5\n",
            "\n",
            "The intial elements in the stack were:['1', '2', '3', '4', '5']\n",
            "\n",
            "The final elements after popping the stack are:['1', '2']\n"
          ]
        }
      ]
    },
    {
      "cell_type": "markdown",
      "source": [
        "#4. Revised program code: Determining the lenght of the Stack\n",
        "\n",
        "including the previous pop program and comparing the original stack to the popped stack."
      ],
      "metadata": {
        "id": "gNHyjbu0q2kE"
      }
    },
    {
      "cell_type": "code",
      "source": [
        "# Stack implementation in python\n",
        "\n",
        "\n",
        "\n",
        "\n",
        "\n",
        "# Creating a stack\n",
        "\n",
        "def create_stack():\n",
        "\n",
        "    stack = []\n",
        "\n",
        "    return stack\n",
        "\n",
        "\n",
        "\n",
        "\n",
        "\n",
        "# Creating an empty stack\n",
        "\n",
        "def is_empty(stack):\n",
        "\n",
        "    return len(stack) == 0\n",
        "\n",
        "\n",
        "\n",
        "\n",
        "\n",
        "# Adding items into the stack\n",
        "\n",
        "def push(stack, item):\n",
        "\n",
        "    stack.append(item)\n",
        "\n",
        "    print(\"Pushed Element: \" + item)\n",
        "\n",
        "\n",
        "\n",
        "\n",
        "\n",
        "# Removing an element from the stack\n",
        "\n",
        "def pop(stack):\n",
        "\n",
        "    if (is_empty(stack)):\n",
        "\n",
        "        return \"The stack is empty\"\n",
        "\n",
        "    return stack.pop()\n",
        "\n",
        "\n",
        "\n",
        "\n",
        "stack = create_stack()\n",
        "\n",
        "push(stack, str(1))\n",
        "\n",
        "push(stack, str(2))\n",
        "\n",
        "push(stack, str(3))\n",
        "\n",
        "push(stack, str(4))\n",
        "\n",
        "push(stack, str(5))\n",
        "\n",
        "\n",
        "#The initial elments of the stack, with its initial length\n",
        "print(\"\\nThe intial elements in the stack were:\"+ str(stack))\n",
        "print(\"The initial lenght of the stack was:\", len(stack))\n",
        "\n",
        "\n",
        "#usinf for loop to pop the top three elements, popping the top three times\n",
        "for i in range(3):\n",
        "  pop(stack)\n",
        "\n",
        "#the left elements of the stack after popping the three top elements, with its final lenght\n",
        "print(\"\\nThe final elements after popping the stack are:\"+ str(stack))\n",
        "print(\"The final lenght after popping the stack is:\", len(stack))"
      ],
      "metadata": {
        "colab": {
          "base_uri": "https://localhost:8080/"
        },
        "id": "XahE9Vfvoust",
        "outputId": "bab52c45-011d-4c39-9ec4-9fd6c6143bd5"
      },
      "execution_count": 16,
      "outputs": [
        {
          "output_type": "stream",
          "name": "stdout",
          "text": [
            "Pushed Element: 1\n",
            "Pushed Element: 2\n",
            "Pushed Element: 3\n",
            "Pushed Element: 4\n",
            "Pushed Element: 5\n",
            "\n",
            "The intial elements in the stack were:['1', '2', '3', '4', '5']\n",
            "The initial lenght of the stack was: 5\n",
            "\n",
            "The final elements after popping the stack are:['1', '2']\n",
            "The final lenght after popping the stack is: 2\n"
          ]
        }
      ]
    }
  ]
}