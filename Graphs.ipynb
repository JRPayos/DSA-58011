{
  "nbformat": 4,
  "nbformat_minor": 0,
  "metadata": {
    "colab": {
      "provenance": [],
      "collapsed_sections": [],
      "authorship_tag": "ABX9TyOT8fvJhsBf7Eq0MJqQ+lvd",
      "include_colab_link": true
    },
    "kernelspec": {
      "name": "python3",
      "display_name": "Python 3"
    },
    "language_info": {
      "name": "python"
    }
  },
  "cells": [
    {
      "cell_type": "markdown",
      "metadata": {
        "id": "view-in-github",
        "colab_type": "text"
      },
      "source": [
        "<a href=\"https://colab.research.google.com/github/JRPayos/DSA-58011/blob/main/Graphs.ipynb\" target=\"_parent\"><img src=\"https://colab.research.google.com/assets/colab-badge.svg\" alt=\"Open In Colab\"/></a>"
      ]
    },
    {
      "cell_type": "markdown",
      "source": [
        "#Graphs\n",
        "\n",
        "---\n",
        "\n"
      ],
      "metadata": {
        "id": "2n0NXSHpoBNG"
      }
    },
    {
      "cell_type": "code",
      "execution_count": 4,
      "metadata": {
        "colab": {
          "base_uri": "https://localhost:8080/"
        },
        "id": "VBLUKuGbfg7S",
        "outputId": "7a220e5d-ae5c-4a96-d851-60abee95a84a"
      },
      "outputs": [
        {
          "output_type": "stream",
          "name": "stdout",
          "text": [
            "{'a': ['b', 'c'], 'b': ['a', 'd'], 'c': ['a', 'd'], 'd': ['b', 'c', 'e'], 'e': ['e']}\n"
          ]
        }
      ],
      "source": [
        "#Data Elements using Dictionaries to implement Graphs\n",
        "graph={\n",
        "  'a' : ['b', 'c'],\n",
        "  'b' : ['a', 'd'],\n",
        "  'c' : ['a', 'd'],\n",
        "  'c' : ['a', 'd'],\n",
        "  'd' : ['b', 'c', 'e'],\n",
        "  'e' : ['e']\n",
        "}\n",
        "\n",
        "print(graph)"
      ]
    },
    {
      "cell_type": "markdown",
      "source": [
        "Graph G19"
      ],
      "metadata": {
        "id": "Dx_EhY3unBTr"
      }
    },
    {
      "cell_type": "code",
      "source": [
        "graphG19 = {\n",
        "    1 : [2, 3, 4, 5],\n",
        "    2 : [1, 3, 4, 5],\n",
        "    3 : [1, 2, 4, 5],\n",
        "    4 : [1, 2, 3, 5],\n",
        "    5 : [1, 2, 3, 4],\n",
        "}\n",
        "print(graphG19)"
      ],
      "metadata": {
        "colab": {
          "base_uri": "https://localhost:8080/"
        },
        "id": "BQKFZZ7fnehK",
        "outputId": "366437e3-317b-49d2-a96f-aecf2e187c76"
      },
      "execution_count": 6,
      "outputs": [
        {
          "output_type": "stream",
          "name": "stdout",
          "text": [
            "{1: [2, 3, 4, 5], 2: [1, 3, 4, 5], 3: [1, 2, 4, 5], 4: [1, 2, 3, 5], 5: [1, 2, 3, 4]}\n"
          ]
        }
      ]
    },
    {
      "cell_type": "markdown",
      "source": [
        "Graph G20"
      ],
      "metadata": {
        "id": "mWRyg_xpnC5Q"
      }
    },
    {
      "cell_type": "code",
      "source": [
        "graphG20={\n",
        "1 : [],\n",
        "2 : [1, 3, 4],\n",
        "3 : [2],\n",
        "4 : [],\n",
        "}\n",
        "print(graphG20)"
      ],
      "metadata": {
        "colab": {
          "base_uri": "https://localhost:8080/"
        },
        "id": "eo7RwxsknEoH",
        "outputId": "225d5ee2-c7b8-48ae-e94e-15c2c6f921c6"
      },
      "execution_count": 8,
      "outputs": [
        {
          "output_type": "stream",
          "name": "stdout",
          "text": [
            "{1: [], 2: [1, 3, 4], 3: [2], 4: []}\n"
          ]
        }
      ]
    },
    {
      "cell_type": "markdown",
      "source": [
        "Graph G21"
      ],
      "metadata": {
        "id": "Mqpqb3otm6bV"
      }
    },
    {
      "cell_type": "code",
      "source": [
        "graphG21={\n",
        "1 : [3, 4, 5],\n",
        "2 : [4, 5],\n",
        "3 : [1],\n",
        "4 : [1, 2],\n",
        "5 : [1, 2]\n",
        "}\n",
        "\n",
        "print(graphG21)"
      ],
      "metadata": {
        "colab": {
          "base_uri": "https://localhost:8080/"
        },
        "id": "TVa97L8Xk1VS",
        "outputId": "3978384f-d963-4ee5-85c9-f8a39e877c7b"
      },
      "execution_count": 5,
      "outputs": [
        {
          "output_type": "stream",
          "name": "stdout",
          "text": [
            "{1: [3, 4, 5], 2: [4, 5], 3: [1], 4: [1, 2], 5: [1, 2]}\n"
          ]
        }
      ]
    }
  ]
}