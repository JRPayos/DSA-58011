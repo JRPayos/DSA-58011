{
  "nbformat": 4,
  "nbformat_minor": 0,
  "metadata": {
    "colab": {
      "provenance": [],
      "authorship_tag": "ABX9TyOj7PuIHg19sVDHWzQcYmdX",
      "include_colab_link": true
    },
    "kernelspec": {
      "name": "python3",
      "display_name": "Python 3"
    },
    "language_info": {
      "name": "python"
    }
  },
  "cells": [
    {
      "cell_type": "markdown",
      "metadata": {
        "id": "view-in-github",
        "colab_type": "text"
      },
      "source": [
        "<a href=\"https://colab.research.google.com/github/JRPayos/DSA-58011/blob/main/Area.ipynb\" target=\"_parent\"><img src=\"https://colab.research.google.com/assets/colab-badge.svg\" alt=\"Open In Colab\"/></a>"
      ]
    },
    {
      "cell_type": "code",
      "execution_count": 1,
      "metadata": {
        "colab": {
          "base_uri": "https://localhost:8080/"
        },
        "id": "5F3Vvp-x3nsw",
        "outputId": "035fb9d9-2001-406d-9f16-7ffd022cad99"
      },
      "outputs": [
        {
          "output_type": "stream",
          "name": "stdout",
          "text": [
            "Name of Polygon = Triangle\n",
            "Number of Sides = 3\n",
            "Input the base : 4\n",
            "Input the height : 5\n",
            "Area of Triangle = 10.0\n"
          ]
        }
      ],
      "source": [
        "class Polygon:\n",
        "    def __init__(self, name, sides):\n",
        "        self.name = name\n",
        "        self.sides = sides\n",
        "   \n",
        "    def getName(self):\n",
        "        return self.name\n",
        "\n",
        "    def getSides(self):\n",
        "        return self.sides\n",
        "\n",
        "    def setName(self, name):\n",
        "        self.name = name\n",
        "\n",
        "    def setsides(self, sides):\n",
        "        self.sides = sides\n",
        "\n",
        "def main():\n",
        "    polygon = Polygon(\"Triangle\",3)\n",
        "    print(\"Name of Polygon =\", polygon.getName())\n",
        "    polygon.setsides(3)\n",
        "    print(\"Number of Sides =\", polygon.getSides())\n",
        "\n",
        "main()\n",
        "\n",
        "b = int(input(\"Input the base : \"))\n",
        "h = int(input(\"Input the height : \"))\n",
        "\n",
        "area = b*h/2\n",
        "\n",
        "print(\"Area of Triangle =\", area)"
      ]
    }
  ]
}