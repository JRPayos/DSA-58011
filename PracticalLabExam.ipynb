{
  "nbformat": 4,
  "nbformat_minor": 0,
  "metadata": {
    "colab": {
      "name": "PracticalLabExam.ipynb",
      "provenance": [],
      "authorship_tag": "ABX9TyMf1mWcVRlRKFUhMfgx+txq",
      "include_colab_link": true
    },
    "kernelspec": {
      "name": "python3",
      "display_name": "Python 3"
    },
    "language_info": {
      "name": "python"
    }
  },
  "cells": [
    {
      "cell_type": "markdown",
      "metadata": {
        "id": "view-in-github",
        "colab_type": "text"
      },
      "source": [
        "<a href=\"https://colab.research.google.com/github/JohnRey-P/DSA-58011/blob/main/PracticalLabExam.ipynb\" target=\"_parent\"><img src=\"https://colab.research.google.com/assets/colab-badge.svg\" alt=\"Open In Colab\"/></a>"
      ]
    },
    {
      "cell_type": "code",
      "execution_count": 6,
      "metadata": {
        "colab": {
          "base_uri": "https://localhost:8080/"
        },
        "id": "2Sm-mCv6jgi3",
        "outputId": "285975a0-afbb-486a-e5e4-0200481eb31f"
      },
      "outputs": [
        {
          "output_type": "stream",
          "name": "stdout",
          "text": [
            "The Sum of Odd Scores =   211\n"
          ]
        }
      ],
      "source": [
        "OddSum = 0\n",
        "ScoreList = [26,49,98,87,62,75]\n",
        "NumberOfScores = 6\n",
        "\n",
        "for x in range(NumberOfScores):\n",
        "    if(ScoreList[x] % 2 != 0):\n",
        "        OddSum = OddSum + ScoreList[x]\n",
        "    else:\n",
        "      pass\n",
        "\n",
        "print(\"The Sum of Odd Scores =  \", OddSum)"
      ]
    }
  ]
}