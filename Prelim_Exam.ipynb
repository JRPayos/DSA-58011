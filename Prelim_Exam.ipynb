{
  "nbformat": 4,
  "nbformat_minor": 0,
  "metadata": {
    "colab": {
      "provenance": [],
      "authorship_tag": "ABX9TyPPlx35urljWlxwtk2JuOs/",
      "include_colab_link": true
    },
    "kernelspec": {
      "name": "python3",
      "display_name": "Python 3"
    },
    "language_info": {
      "name": "python"
    }
  },
  "cells": [
    {
      "cell_type": "markdown",
      "metadata": {
        "id": "view-in-github",
        "colab_type": "text"
      },
      "source": [
        "<a href=\"https://colab.research.google.com/github/JRPayos/DSA-58011/blob/main/Prelim_Exam.ipynb\" target=\"_parent\"><img src=\"https://colab.research.google.com/assets/colab-badge.svg\" alt=\"Open In Colab\"/></a>"
      ]
    },
    {
      "cell_type": "markdown",
      "source": [
        "Create a python program that appends all composite integers less than 10 but greatrer than 1 and counts the number of composite."
      ],
      "metadata": {
        "id": "gcrKzXW0uQ-Y"
      }
    },
    {
      "cell_type": "code",
      "source": [
        "#Array method\n",
        "\n",
        "Array = []\n",
        "maxcomp = 10\n",
        "lowcomp = 1\n",
        "i = 0\n",
        "\n",
        "#for loop between integers 1-10\n",
        "for lowcomp in range(maxcomp):\n",
        "  i = i+1\n",
        "  Array.append(i)\n",
        "\n",
        "\n",
        "ArrNumComp = len(Array)\n",
        "\n",
        "print(\"Array = \", Array)\n",
        "print(\"Number of Composites = \", ArrNumComp)"
      ],
      "metadata": {
        "colab": {
          "base_uri": "https://localhost:8080/"
        },
        "id": "9qUyth15wK2e",
        "outputId": "fa552d86-7460-4be8-ed29-859e4d811115"
      },
      "execution_count": 12,
      "outputs": [
        {
          "output_type": "stream",
          "name": "stdout",
          "text": [
            "Array =  [1, 2, 3, 4, 5, 6, 7, 8, 9, 10]\n",
            "Number of Composites =  10\n"
          ]
        }
      ]
    }
  ]
}