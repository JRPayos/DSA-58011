{
  "nbformat": 4,
  "nbformat_minor": 0,
  "metadata": {
    "colab": {
      "provenance": [],
      "authorship_tag": "ABX9TyMgScsqB72uQvZzrMQc5sSL",
      "include_colab_link": true
    },
    "kernelspec": {
      "name": "python3",
      "display_name": "Python 3"
    },
    "language_info": {
      "name": "python"
    }
  },
  "cells": [
    {
      "cell_type": "markdown",
      "metadata": {
        "id": "view-in-github",
        "colab_type": "text"
      },
      "source": [
        "<a href=\"https://colab.research.google.com/github/JohnRey-P/DSA-58011/blob/main/Activity1.ipynb\" target=\"_parent\"><img src=\"https://colab.research.google.com/assets/colab-badge.svg\" alt=\"Open In Colab\"/></a>"
      ]
    },
    {
      "cell_type": "markdown",
      "source": [
        "1. Write a Python program to create an array of 10 integers and display the array items. Access individual elements through indexes and compute for the sum."
      ],
      "metadata": {
        "id": "CmAtLg2ic1x3"
      }
    },
    {
      "cell_type": "code",
      "source": [
        "Sum = 0\n",
        "array = [1,2,3,4,5,6,7,8,9,10]\n",
        "NumInt = 10\n",
        "\n",
        "for x in range(NumInt):\n",
        "      Sum = Sum + array[x]\n",
        "\n",
        "print(array)\n",
        "print(\"Each individual array values\")\n",
        "print(\"array [0] =\", array[0])\n",
        "print(\"array [1] =\", array[1])\n",
        "print(\"array [2] =\", array[2])\n",
        "print(\"array [3] =\", array[3])\n",
        "print(\"array [4] =\", array[4])\n",
        "print(\"array [5] =\", array[5])\n",
        "print(\"array [6] =\", array[6])\n",
        "print(\"array [7] =\", array[7])\n",
        "print(\"array [8] =\", array[8])\n",
        "print(\"array [9] =\", array[9])\n",
        "print(\"The Sum of all array values = \", Sum)"
      ],
      "metadata": {
        "colab": {
          "base_uri": "https://localhost:8080/"
        },
        "id": "7M971KEkgkQL",
        "outputId": "fc465a6e-e025-401f-ce19-864d4a484085"
      },
      "execution_count": 17,
      "outputs": [
        {
          "output_type": "stream",
          "name": "stdout",
          "text": [
            "[1, 2, 3, 4, 5, 6, 7, 8, 9, 10]\n",
            "Each individual array values\n",
            "array [0] = 1\n",
            "array [1] = 2\n",
            "array [2] = 3\n",
            "array [3] = 4\n",
            "array [4] = 5\n",
            "array [5] = 6\n",
            "array [6] = 7\n",
            "array [7] = 8\n",
            "array [8] = 9\n",
            "array [9] = 10\n",
            "The Sum of all array values =  55\n"
          ]
        }
      ]
    },
    {
      "cell_type": "markdown",
      "source": [
        "2. Write a Python program to append a new item to the end of the array. Original array: numbers = [1, 2, 3, 4, 5, 6, 7, 8, 9, 10]"
      ],
      "metadata": {
        "id": "wGcvue-0gs_-"
      }
    },
    {
      "cell_type": "code",
      "source": [
        "array = [1,2,3,4,5,6,7,8,9,10]\n",
        "\n",
        "print(\"Original array =\", array)\n",
        "\n",
        "array.append(11)\n",
        "print(\"Altered array =\", array)"
      ],
      "metadata": {
        "colab": {
          "base_uri": "https://localhost:8080/"
        },
        "id": "IWCDPWOHjdUV",
        "outputId": "49644deb-89d1-4c56-d523-a6359e44af4f"
      },
      "execution_count": 44,
      "outputs": [
        {
          "output_type": "stream",
          "name": "stdout",
          "text": [
            "Original array = [1, 2, 3, 4, 5, 6, 7, 8, 9, 10]\n",
            "Altered array = [1, 2, 3, 4, 5, 6, 7, 8, 9, 10, 11]\n"
          ]
        }
      ]
    },
    {
      "cell_type": "markdown",
      "source": [
        "3. Write a Python program to insert a new item before the second element in an existing array. Original array: numbers = [1, 2, 3, 4, 5, 6, 7, 8, 9, 10]"
      ],
      "metadata": {
        "id": "QBOz_1q0jJpI"
      }
    },
    {
      "cell_type": "code",
      "source": [
        "array = [1,2,3,4,5,6,7,8,9,10]\n",
        "\n",
        "print(\"Original array =\", array)\n",
        "\n",
        "array.insert(1, 27)\n",
        "print(\"Altered array =\", array)"
      ],
      "metadata": {
        "colab": {
          "base_uri": "https://localhost:8080/"
        },
        "id": "OvCheyynjtzF",
        "outputId": "561f8544-edb0-4161-c84f-15d2498d32cb"
      },
      "execution_count": 43,
      "outputs": [
        {
          "output_type": "stream",
          "name": "stdout",
          "text": [
            "Original array = [1, 2, 3, 4, 5, 6, 7, 8, 9, 10]\n",
            "Altered array = [1, 27, 2, 3, 4, 5, 6, 7, 8, 9, 10]\n"
          ]
        }
      ]
    },
    {
      "cell_type": "markdown",
      "source": [
        "4. Write a Python program to reverse the order of the items in the array.Original array: numbers = [5, 4, 3, 2, 1]"
      ],
      "metadata": {
        "id": "5hX69IOdjOJn"
      }
    },
    {
      "cell_type": "code",
      "source": [
        "array = [5,4,3,2,1]\n",
        "\n",
        "\n",
        "print(\"Original array =\", array)\n",
        "array.reverse()\n",
        "\n",
        "print(\"Altered array =\", array)\n"
      ],
      "metadata": {
        "colab": {
          "base_uri": "https://localhost:8080/"
        },
        "id": "2hbuCL41kMsJ",
        "outputId": "39dd0243-4a4d-4885-d278-d023636b1fc8"
      },
      "execution_count": 42,
      "outputs": [
        {
          "output_type": "stream",
          "name": "stdout",
          "text": [
            "Original array = [5, 4, 3, 2, 1]\n",
            "Altered array = [1, 2, 3, 4, 5]\n"
          ]
        }
      ]
    },
    {
      "cell_type": "markdown",
      "source": [
        "5. Write a Python program to get the length of the array. Original array: numbers = [5, 4, 3, 2, 1]"
      ],
      "metadata": {
        "id": "Pi7wyG_3jUfv"
      }
    },
    {
      "cell_type": "code",
      "source": [
        "array = [5,4,3,2,1]\n",
        "\n",
        "i= len(array)\n",
        "\n",
        "print(array)\n",
        "print(\"The lenght of the array =\", i)\n"
      ],
      "metadata": {
        "colab": {
          "base_uri": "https://localhost:8080/"
        },
        "id": "ZT6LrLXplKUa",
        "outputId": "a1350a13-209c-41fe-e2e5-07889105803a"
      },
      "execution_count": 41,
      "outputs": [
        {
          "output_type": "stream",
          "name": "stdout",
          "text": [
            "[5, 4, 3, 2, 1]\n",
            "The lenght of the array = 5\n"
          ]
        }
      ]
    }
  ]
}