{
  "nbformat": 4,
  "nbformat_minor": 0,
  "metadata": {
    "colab": {
      "provenance": [],
      "collapsed_sections": [],
      "authorship_tag": "ABX9TyP02L72DEoniBJJPFH6XhtQ",
      "include_colab_link": true
    },
    "kernelspec": {
      "name": "python3",
      "display_name": "Python 3"
    },
    "language_info": {
      "name": "python"
    }
  },
  "cells": [
    {
      "cell_type": "markdown",
      "metadata": {
        "id": "view-in-github",
        "colab_type": "text"
      },
      "source": [
        "<a href=\"https://colab.research.google.com/github/JRPayos/DSA-58011/blob/main/Long_Quiz_1.ipynb\" target=\"_parent\"><img src=\"https://colab.research.google.com/assets/colab-badge.svg\" alt=\"Open In Colab\"/></a>"
      ]
    },
    {
      "cell_type": "markdown",
      "source": [
        "# Long Quiz 1\n",
        "\n",
        "1) Choose Array or Linked-List data structure\n",
        "\n",
        "2) Create a python program that inserts each character of your full name\n",
        "\n",
        "and displays your full name in reverse order (in Colab)\n",
        "\n",
        "3) Save your program as \"Long Quiz 1\" to your GitHub\n",
        "\n",
        "4) Send the link address of GitHub to the Practical Laboratory folder (BlackBoard)\n",
        "\n",
        "\n"
      ],
      "metadata": {
        "id": "nk3y7CDEm5U4"
      }
    },
    {
      "cell_type": "code",
      "source": [
        "\n",
        "class Node:\n",
        "  def __init__(self, data = None, next=None): \n",
        "    self.data = data\n",
        "    self.next = next\n",
        "\n",
        "\n",
        "class LinkedList:\n",
        "  def __init__(self):  \n",
        "    self.head = None\n",
        "  \n",
        "  #insert the name to the linked list\n",
        "  def append(self, data):\n",
        "    newNode = Node(data)\n",
        "    if(self.head):\n",
        "      current = self.head\n",
        "      while(current.next):\n",
        "        current = current.next\n",
        "      current.next = newNode\n",
        "    else:\n",
        "      self.head = newNode\n",
        "  \n",
        "  #prints original LL, head to tail\n",
        "  def OrigDisplay(self):\n",
        "    current = self.head\n",
        "    while(current):\n",
        "      print(current.data, end = ' ')\n",
        "      current = current.next\n",
        "\n",
        "  #reverses the original LL, tail to head\n",
        "def RevDisplay(self):\n",
        " \n",
        "  previous = None         \n",
        "  current = self.head     \n",
        "  following = current.next    \n",
        "\n",
        "  while current:\n",
        "      current.next = previous \n",
        "      previous = current      \n",
        "      current = following         \n",
        "      if following:              \n",
        "          following = following.next    \n",
        "\n",
        "  self.head = previous\n",
        "\n",
        "\n",
        "LL = LinkedList()\n",
        "\n",
        "#User's name input\n",
        "data = input('Enter your first name : ')\n",
        "LL.append(data)\n",
        "data = input('Enter your middle name : ')\n",
        "LL.append(data)\n",
        "data = input('Enter your last name : ')\n",
        "LL.append(data)\n",
        "\n",
        "\n",
        "print(\"\\nOriginal Linked List of User's Name : \", end = '') #display original LL\n",
        "LL.OrigDisplay()\n",
        "print(\"\\nReversed Linked List of User's Name : \", end = '') #display reversed LL\n",
        "RevDisplay(LL)\n",
        "LL.OrigDisplay()"
      ],
      "metadata": {
        "colab": {
          "base_uri": "https://localhost:8080/"
        },
        "id": "hiR4wJTcwvQD",
        "outputId": "1a416182-56bb-4852-aa18-02d239ed9647"
      },
      "execution_count": 57,
      "outputs": [
        {
          "output_type": "stream",
          "name": "stdout",
          "text": [
            "Enter your first name : John Rey\n",
            "Enter your middle name : Abboc\n",
            "Enter your last name : Payos\n",
            "\n",
            "Original Linked List of User's Name : John Rey Abboc Payos \n",
            "Reversed Linked List of User's Name : Payos Abboc John Rey "
          ]
        }
      ]
    }
  ]
}